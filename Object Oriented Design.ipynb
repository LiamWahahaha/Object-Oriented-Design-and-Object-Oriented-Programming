{
 "cells": [
  {
   "cell_type": "markdown",
   "metadata": {},
   "source": [
    "# Object Oriented Analysis & Design\n",
    "---\n",
    "## Object-Oriented Analysis\n",
    "\n",
    "A procedure of identifying software engineering requirements and developing software specifications in terms of a software system's object model, which comprises of interacting objects.\n",
    "\n",
    "The primary tasks in OOA are -\n",
    "- Identifying objects\n",
    "- Organizing the objects by creating object model diagram\n",
    "- Defining the internals of the objects, or object attributes\n",
    "- Defining the behavior of the objects, i.e., object actions\n",
    "- Describing how the objects interact\n",
    "\n",
    "## Object-Oriented Design\n",
    "It involves implementation of the conceptual model produced during OOA.\n",
    "\n",
    "The implementation details generally include -\n",
    "- Restructuring the class data (if necessary)\n",
    "- Implementation of methods, i.e., internal data structures and algorithms\n",
    "- Implementation of control\n",
    "- Implementation of associations\n",
    "\n",
    "## Object-Oriented Programming\n",
    "A programming paradigm based upon objects (having both data and methods) that aims to incorporate the advantages of **modularity** and **reusability**.\n",
    "\n",
    "The important features of OOP are -\n",
    "- Bottom-up approach in program design\n",
    "- Programs organized around objects, grouped in classes\n",
    "- Focus on data with methods to operate upon object's data\n",
    "- Interaction between objects through functions\n",
    "- Reusability of design through creation of new classes by adding features to existing classes\n",
    "\n",
    "![OOPS](https://assets-global.website-files.com/5c7536fc6fa90e7dbc27598f/5d8350501fa9f72a27a893bf_Oo65m_6e_qkDzypQAEMmPHMgn_mbbZo492Zf-qLCs1Rw1gc6CUAZqLxgmawjN1qdAiIrSqtRU5PpkEYlM2MAhUYjt1SwuvUialeWk2c6mIu0Vwt5F97USlsy1lmLTy_XsHjH5GK0U2BPhz3TEA.png)"
   ]
  },
  {
   "cell_type": "markdown",
   "metadata": {},
   "source": [
    "# Objects and Classes\n",
    "---\n",
    "## Object\n",
    "\n",
    "An object is a real-world element in an object-oriented environment that may have a physical or a conceptual existence. Each object has -\n",
    "- Identity that distinguishes it from other objects in the system\n",
    "- State that determines the characteristic properties of an object as well as the values of the properties that the object holds\n",
    "- Behavior that represents externally visible activities performed by an object in terms of changes in its state\n",
    "\n",
    "\n",
    "## Class\n",
    "\n",
    "A class represents a collection of objects having same characteristic properties that exhibit common behavior. An object is an instance of a class. It is a named concept in the domain space, with an optional superclass, defined as a set of **fields** and **methods**.\n",
    "\n",
    "The constituents of a class are -\n",
    "- A set of attribbutes for the objects that are to be instantiated from the class\n",
    "- Attributes are often referred as class data\n",
    "- A set of operations that portray the behavior of the objects of the class. Operations are also referred as functions or methods"
   ]
  },
  {
   "cell_type": "code",
   "execution_count": 1,
   "metadata": {},
   "outputs": [
    {
     "data": {
      "text/plain": [
       "['__class__',\n",
       " '__delattr__',\n",
       " '__dict__',\n",
       " '__dir__',\n",
       " '__doc__',\n",
       " '__eq__',\n",
       " '__format__',\n",
       " '__ge__',\n",
       " '__getattribute__',\n",
       " '__gt__',\n",
       " '__hash__',\n",
       " '__init__',\n",
       " '__init_subclass__',\n",
       " '__le__',\n",
       " '__lt__',\n",
       " '__module__',\n",
       " '__ne__',\n",
       " '__new__',\n",
       " '__reduce__',\n",
       " '__reduce_ex__',\n",
       " '__repr__',\n",
       " '__setattr__',\n",
       " '__sizeof__',\n",
       " '__str__',\n",
       " '__subclasshook__',\n",
       " '__weakref__']"
      ]
     },
     "execution_count": 1,
     "metadata": {},
     "output_type": "execute_result"
    }
   ],
   "source": [
    "class MyClass:\n",
    "    pass\n",
    "\n",
    "c = MyClass()\n",
    "# dir() returns a list of all the members in the specified object\n",
    "dir(c)"
   ]
  },
  {
   "cell_type": "code",
   "execution_count": 2,
   "metadata": {},
   "outputs": [
    {
     "data": {
      "text/plain": [
       "['__class__',\n",
       " '__delattr__',\n",
       " '__dir__',\n",
       " '__doc__',\n",
       " '__eq__',\n",
       " '__format__',\n",
       " '__ge__',\n",
       " '__getattribute__',\n",
       " '__gt__',\n",
       " '__hash__',\n",
       " '__init__',\n",
       " '__init_subclass__',\n",
       " '__le__',\n",
       " '__lt__',\n",
       " '__ne__',\n",
       " '__new__',\n",
       " '__reduce__',\n",
       " '__reduce_ex__',\n",
       " '__repr__',\n",
       " '__setattr__',\n",
       " '__sizeof__',\n",
       " '__str__',\n",
       " '__subclasshook__']"
      ]
     },
     "execution_count": 2,
     "metadata": {},
     "output_type": "execute_result"
    }
   ],
   "source": [
    "o = object()\n",
    "dir(o)"
   ]
  },
  {
   "cell_type": "markdown",
   "metadata": {},
   "source": [
    "# Important Concepts\n",
    "## Inheritance\n",
    "\n",
    "**Inheritance** models what is called an **is a** relationship. This means what when you have a Derived class that inherits from a Base class, you created a relationship where Derived **is a** specialized version of Base.\n",
    "\n",
    "> In an inheritance relationship:\n",
    "> - Classes that inherit from another are called **derived classes**, **subclasses**, or **subtypes**.\n",
    "> - Classes from which other classes are derived are called **base classes** or **super classes**.\n",
    "> - A derived class is said to derive, inherit, or extend a base class.\n",
    "\n",
    "![Basic Inheritance](https://files.realpython.com/media/ic-basic-inheritance.f8dc9ffee4d7.jpg)"
   ]
  },
  {
   "cell_type": "code",
   "execution_count": 3,
   "metadata": {},
   "outputs": [
    {
     "name": "stdout",
     "output_type": "stream",
     "text": [
      "<__main__.Door object at 0x10f58f0d0>\n",
      "<class '__main__.Door'>\n"
     ]
    }
   ],
   "source": [
    "class Door:\n",
    "    color = 'brown' # attributes of the class, it's shared between all class instances\n",
    "\n",
    "    def __init__(self, number, status): # constructor\n",
    "        self.number = number # attributes of the object\n",
    "        self.status = status # attributes of the object\n",
    "\n",
    "    @classmethod\n",
    "    def knock(cls): # can be accessed by the class, e.g., Door.knock()\n",
    "        print(\"Knock!\")\n",
    "        \n",
    "    @classmethod\n",
    "    def paint(cls, color):\n",
    "        cls.color = color\n",
    "\n",
    "    def open(self): # method of a object\n",
    "        self.status = 'open'\n",
    "        \n",
    "    def close(self): # method of a object\n",
    "        self.status = 'closed'\n",
    "\n",
    "door = Door(1, 'open')\n",
    "print(door)\n",
    "print(type(door))"
   ]
  },
  {
   "cell_type": "code",
   "execution_count": 4,
   "metadata": {},
   "outputs": [
    {
     "name": "stdout",
     "output_type": "stream",
     "text": [
      "<__main__.WierdDoor object at 0x10f575a90>\n",
      "<class '__main__.WierdDoor'>\n"
     ]
    }
   ],
   "source": [
    "class WierdDoor:\n",
    "    def __init__(random_name, number, status):\n",
    "        random_name.number = number\n",
    "        random_name.status = status\n",
    "    \n",
    "    def open(random_name):\n",
    "        random_name.status = 'open'\n",
    "        \n",
    "    def close(random_name):\n",
    "        random_name.status = 'closed'\n",
    "        \n",
    "wierd_door = WierdDoor(1, 'open')\n",
    "print(wierd_door)\n",
    "print(type(wierd_door))"
   ]
  },
  {
   "cell_type": "markdown",
   "metadata": {},
   "source": [
    "### Another inheritance example"
   ]
  },
  {
   "cell_type": "code",
   "execution_count": 5,
   "metadata": {},
   "outputs": [
    {
     "name": "stdout",
     "output_type": "stream",
     "text": [
      "John Doe\n",
      "Welcom Mike Olsen to the class of 2019\n",
      "Mike Olsen\n"
     ]
    }
   ],
   "source": [
    "class Person:\n",
    "    def __init__(self, fname, lname):\n",
    "        self.firstname = fname\n",
    "        self.lastname = lname\n",
    "        \n",
    "    def printname(self):\n",
    "        print(self.firstname, self.lastname)\n",
    "\n",
    "x = Person(\"John\", \"Doe\")\n",
    "x.printname()\n",
    "\n",
    "class Student(Person):\n",
    "    def __init__(self, fname, lname, year):\n",
    "        super().__init__(fname, lname)\n",
    "        self.graduationyear = year\n",
    "        \n",
    "    def welcome(self):\n",
    "        print(f\"Welcom {self.firstname} {self.lastname} to the class of {self.graduationyear}\")\n",
    "\n",
    "x = Student(\"Mike\", \"Olsen\", 2019)\n",
    "x.welcome()\n",
    "x.printname()"
   ]
  },
  {
   "cell_type": "markdown",
   "metadata": {},
   "source": [
    "## Polymorphism\n",
    "**Polymorphism** means existing in many forms. It is the ability of an object to take on many forms. Variables, functions, and objects can exist in multiple forms in Java and Python. The most common use of polymorphism in OOP occurs when a parent class reference is used to refer to a child object.\n",
    "\n",
    "If the subject successfully passes multiple **is-a** or instanceof tests, it's polymorphic.\n",
    "\n",
    "### Polymorphism in Python\n",
    "- In programming, polymorphism means same function name but different signatures being uses for different types.\n",
    "\n",
    "- In Python, Polymorphism lets us define methods in the child class that have the same name as the methods in the parent class. The process of re-implementing a method in the child class is known as **Method Overriding**.\n",
    "\n",
    "- It is also possible to create a function that can take any object, allowing for polymorphism. See the following example: India, USA, and func."
   ]
  },
  {
   "cell_type": "code",
   "execution_count": 6,
   "metadata": {},
   "outputs": [
    {
     "name": "stdout",
     "output_type": "stream",
     "text": [
      "5\n",
      "9\n",
      "New Delhi is the capital of India.\n",
      "Hindi is the most widely spoken language of India.\n",
      "India is a developing country.\n",
      "Washington, D.C. is the capital of USA.\n",
      "English is the primary language of USA.\n",
      "USA is a developed country.\n"
     ]
    }
   ],
   "source": [
    "def add(x, y, z = 0):\n",
    "    return x + y + z\n",
    "\n",
    "print(add(2, 3))\n",
    "print(add(2, 3, 4))\n",
    "\n",
    "class India(): \n",
    "    def capital(self): \n",
    "        print(\"New Delhi is the capital of India.\") \n",
    "   \n",
    "    def language(self): \n",
    "        print(\"Hindi is the most widely spoken language of India.\") \n",
    "   \n",
    "    def type(self): \n",
    "        print(\"India is a developing country.\") \n",
    "\n",
    "\n",
    "class USA(): \n",
    "    def capital(self): \n",
    "        print(\"Washington, D.C. is the capital of USA.\") \n",
    "   \n",
    "    def language(self): \n",
    "        print(\"English is the primary language of USA.\") \n",
    "   \n",
    "    def type(self): \n",
    "        print(\"USA is a developed country.\") \n",
    "\n",
    "def func(obj): \n",
    "    obj.capital() \n",
    "    obj.language() \n",
    "    obj.type() \n",
    "\n",
    "obj_ind = India() \n",
    "obj_usa = USA() \n",
    "   \n",
    "func(obj_ind) \n",
    "func(obj_usa) "
   ]
  },
  {
   "cell_type": "markdown",
   "metadata": {},
   "source": [
    "## Data Abstraction\n",
    "\n",
    "**Abstraction** is implemented to hide unnecessary data and withdrawing relevant data.\n",
    "\n",
    "## What is the difference between abstraction and encapsulation?\n",
    "Abstraction is implemented to hide unnecessary data and withdrawing relevant data. Encapsulation is the mechanism of hiding the code and the data together from the outside world or misuse. It focuses on the inner details of how the object works.\n",
    "\n",
    "The main difference between abstraction vs encapsulation is that the problem is solved by Abstraction at the design level and the level of the application by Encapsulation. Abstraction involves hiding unwanted information while providing the most important information, whereas encapsulation implies hiding code and information in one device.\n",
    "\n",
    "- Abstraction\n",
    "  - Works on the design level\n",
    "  - Is implemented to hide unnecessary data and withdrawing relevant data\n",
    "  - Highlights what is the work of an object instead of how the object works\n",
    "  - Focuses on outside viewing, for example shifting the car\n",
    "  - Supported in Java with the interface and the abstract class\n",
    "  - Is hiding implementation with the help of an interface and an abstract class\n",
    "  \n",
    "- Encapsulation\n",
    "  - Works on the application level\n",
    "  - Is the mechanism of hiding the code and the data togetther from the outside world or misuse\n",
    "  - Focuses on the inner details of how the object works. Modifications can be done later to the settings\n",
    "  - Focuses on internal working or inner viewing, for example, the production of the car\n",
    "  - Is supported using e.g. public, private and secure access modification systems\n",
    "  - Is hiding the data with the help of getters and setters"
   ]
  },
  {
   "cell_type": "markdown",
   "metadata": {},
   "source": [
    "## Encapsulation\n",
    "A programming style where implementation details are hidden. It reduces software development complexity greatly. With Encapsulation, only methods are exposed. The programmer does not have to worry about implementation details but is only concerned with the operations.\n",
    "\n",
    "To create a protected members in Python, just follow **the convention** by prefixing the name of the member by a **single underscore \"_\"**"
   ]
  },
  {
   "cell_type": "code",
   "execution_count": 7,
   "metadata": {},
   "outputs": [
    {
     "name": "stdout",
     "output_type": "stream",
     "text": [
      "Calling protected member from base class: \n",
      "2\n",
      "Calling private member from base class: \n",
      "3\n",
      "Calling protected member from base class: \n",
      "2\n",
      "Calling private member from base class: \n",
      "3\n",
      "Calling protected member of base class: \n",
      "2\n",
      "Calling private member of base class: \n"
     ]
    },
    {
     "ename": "AttributeError",
     "evalue": "'Derived' object has no attribute '_Derived__private'",
     "output_type": "error",
     "traceback": [
      "\u001b[0;31m---------------------------------------------------------------------------\u001b[0m",
      "\u001b[0;31mAttributeError\u001b[0m                            Traceback (most recent call last)",
      "\u001b[0;32m<ipython-input-7-1d1f9c3db252>\u001b[0m in \u001b[0;36m<module>\u001b[0;34m\u001b[0m\n\u001b[1;32m     17\u001b[0m \u001b[0;34m\u001b[0m\u001b[0m\n\u001b[1;32m     18\u001b[0m \u001b[0mobj2\u001b[0m \u001b[0;34m=\u001b[0m \u001b[0mBase\u001b[0m\u001b[0;34m(\u001b[0m\u001b[0;34m)\u001b[0m\u001b[0;34m\u001b[0m\u001b[0;34m\u001b[0m\u001b[0m\n\u001b[0;32m---> 19\u001b[0;31m \u001b[0mobj1\u001b[0m \u001b[0;34m=\u001b[0m \u001b[0mDerived\u001b[0m\u001b[0;34m(\u001b[0m\u001b[0;34m)\u001b[0m\u001b[0;34m\u001b[0m\u001b[0;34m\u001b[0m\u001b[0m\n\u001b[0m",
      "\u001b[0;32m<ipython-input-7-1d1f9c3db252>\u001b[0m in \u001b[0;36m__init__\u001b[0;34m(self)\u001b[0m\n\u001b[1;32m     14\u001b[0m         \u001b[0mprint\u001b[0m\u001b[0;34m(\u001b[0m\u001b[0mself\u001b[0m\u001b[0;34m.\u001b[0m\u001b[0m_protected\u001b[0m\u001b[0;34m)\u001b[0m\u001b[0;34m\u001b[0m\u001b[0;34m\u001b[0m\u001b[0m\n\u001b[1;32m     15\u001b[0m         \u001b[0mprint\u001b[0m\u001b[0;34m(\u001b[0m\u001b[0;34m\"Calling private member of base class: \"\u001b[0m\u001b[0;34m)\u001b[0m\u001b[0;34m\u001b[0m\u001b[0;34m\u001b[0m\u001b[0m\n\u001b[0;32m---> 16\u001b[0;31m         \u001b[0mprint\u001b[0m\u001b[0;34m(\u001b[0m\u001b[0mself\u001b[0m\u001b[0;34m.\u001b[0m\u001b[0m__private\u001b[0m\u001b[0;34m)\u001b[0m\u001b[0;34m\u001b[0m\u001b[0;34m\u001b[0m\u001b[0m\n\u001b[0m\u001b[1;32m     17\u001b[0m \u001b[0;34m\u001b[0m\u001b[0m\n\u001b[1;32m     18\u001b[0m \u001b[0mobj2\u001b[0m \u001b[0;34m=\u001b[0m \u001b[0mBase\u001b[0m\u001b[0;34m(\u001b[0m\u001b[0;34m)\u001b[0m\u001b[0;34m\u001b[0m\u001b[0;34m\u001b[0m\u001b[0m\n",
      "\u001b[0;31mAttributeError\u001b[0m: 'Derived' object has no attribute '_Derived__private'"
     ]
    }
   ],
   "source": [
    "class Base:\n",
    "    def __init__(self):\n",
    "        self._protected = 2\n",
    "        self.__private = 3\n",
    "        print(\"Calling protected member from base class: \")\n",
    "        print(self._protected)\n",
    "        print(\"Calling private member from base class: \")\n",
    "        print(self.__private)\n",
    "        \n",
    "class Derived(Base):\n",
    "    def __init__(self):\n",
    "        super().__init__()\n",
    "        print(\"Calling protected member of base class: \")\n",
    "        print(self._protected)\n",
    "        print(\"Calling private member of base class: \")\n",
    "        print(self.__private)\n",
    "\n",
    "obj2 = Base()\n",
    "obj1 = Derived()"
   ]
  },
  {
   "cell_type": "markdown",
   "metadata": {},
   "source": [
    "### What is self?\n",
    "\n",
    "- **self** is used to describe variables specific to a singular class instance\n",
    "- **self** is not a reserve keyword, you can use whatever name you like as the first variable just like the example - WierdDoor\n",
    "- **self** is what's passed automatically when calling a function from a class instance"
   ]
  },
  {
   "cell_type": "code",
   "execution_count": 8,
   "metadata": {
    "scrolled": true
   },
   "outputs": [
    {
     "name": "stdout",
     "output_type": "stream",
     "text": [
      "{'number': 1, 'status': 'open'}\n",
      "{'number': 1, 'status': 'open'}\n",
      "<class '__main__.Door'>\n",
      "<class '__main__.Door'>\n",
      "0x10f5827f0\n",
      "0x10f5827f0\n",
      "Are door1.color and Door.color exactly the same object? Yes!\n"
     ]
    }
   ],
   "source": [
    "door1 = Door(1, 'open')\n",
    "door2 = Door(2, 'open')\n",
    "\n",
    "print(vars(door1))\n",
    "print(door1.__dict__)\n",
    "\n",
    "print(type(door1))\n",
    "print(door1.__class__)\n",
    "\n",
    "print(hex(id(door1.color)))\n",
    "print(hex(id(door2.color)))\n",
    "\n",
    "print(f\"Are door1.color and Door.color exactly the same object? {'Yes!' if door1.color is Door.color else 'No!'}\")"
   ]
  },
  {
   "cell_type": "code",
   "execution_count": 9,
   "metadata": {},
   "outputs": [
    {
     "data": {
      "text/plain": [
       "mappingproxy({'__module__': '__main__',\n",
       "              'color': 'brown',\n",
       "              '__init__': <function __main__.Door.__init__(self, number, status)>,\n",
       "              'knock': <classmethod at 0x10f58f130>,\n",
       "              'paint': <classmethod at 0x10f58f160>,\n",
       "              'open': <function __main__.Door.open(self)>,\n",
       "              'close': <function __main__.Door.close(self)>,\n",
       "              '__dict__': <attribute '__dict__' of 'Door' objects>,\n",
       "              '__weakref__': <attribute '__weakref__' of 'Door' objects>,\n",
       "              '__doc__': None})"
      ]
     },
     "execution_count": 9,
     "metadata": {},
     "output_type": "execute_result"
    }
   ],
   "source": [
    "Door.__dict__"
   ]
  },
  {
   "cell_type": "markdown",
   "metadata": {},
   "source": [
    "- Any Python object is automatically given a `__dict__` attribute, which contains its list of attributes\n",
    "- The type of an object is represented by the class used to build the object"
   ]
  },
  {
   "cell_type": "markdown",
   "metadata": {},
   "source": [
    "## Composition\n",
    "\n",
    "**Composition** is a concept that models a **has a** relationship. It enables creating complex types by combining objects of other types. This means that a class Composite can contain an object of another class Component. This relationship means that a Composite **has a** Component.\n",
    "\n",
    "> Classes that contain objects of other classes are usually referred to as composites, where classes that are used to create more complex types are referred to as components.\n",
    "\n",
    "![Basic Composition](https://files.realpython.com/media/ic-basic-composition.8a15876f7db2.jpg)"
   ]
  },
  {
   "cell_type": "code",
   "execution_count": null,
   "metadata": {},
   "outputs": [],
   "source": [
    "class Address:\n",
    "    def __init__(self, street, city, state, zipcode, street2=''):\n",
    "        self.street = street\n",
    "        self.street2 = street2\n",
    "        self.city = city\n",
    "        self.state = state\n",
    "        self.zipcode = zipcode\n",
    "        \n",
    "    def __str__(self):\n",
    "        lines = [self.street]\n",
    "        if self.street2:\n",
    "            lines.append(self.street2)\n",
    "        lines.append(f'{self.city}, {self.state} {self.zipcode}')\n",
    "        return '\\n'.join(lines)\n",
    "    \n",
    "address = Address('55 Main St.', 'Concord', 'NH', '03301')\n",
    "print(address)\n",
    "\n",
    "class Employee:\n",
    "    def __init__(self, id, name):\n",
    "        self.id = id\n",
    "        self.name = name\n",
    "        self.address = None\n",
    "        \n",
    "employee = Employee(1, 'John Doe')\n",
    "employee.address = address\n",
    "print(employee.__dict__)"
   ]
  },
  {
   "cell_type": "markdown",
   "metadata": {},
   "source": [
    "# References\n",
    "1. [Object-Oriented Analysis Design](https://www.tutorialspoint.com/object_oriented_analysis_design/ooad_object_oriented_paradigm.htm)\n",
    "2. [Polymorphism, Encapsulation, Data Abstraction and Inheritance in Object-Oriented Programming](https://www.nerd.vision/post/polymorphism-encapsulation-data-abstraction-and-inheritance-in-object-oriented-programming)\n",
    "3. [Composition vs. Inheritance: How to Choose](https://www.thoughtworks.com/insights/blog/composition-vs-inheritance-how-choose)\n",
    "4. [Inheriance and Composition: A Python OOP Guide](https://realpython.com/inheritance-composition-python/)\n",
    "5. [Object-Oriented Programming in Python3](https://www.thedigitalcatonline.com/blog/2014/08/20/python-3-oop-part-1-objects-and-types/)\n",
    "6. [Encapsulation in Python](https://www.geeksforgeeks.org/encapsulation-in-python/)\n",
    "7. [Python3 Object-Oriented Programming](https://www.python-course.eu/python3_object_oriented_programming.php)"
   ]
  }
 ],
 "metadata": {
  "kernelspec": {
   "display_name": "Python 3",
   "language": "python",
   "name": "python3"
  },
  "language_info": {
   "codemirror_mode": {
    "name": "ipython",
    "version": 3
   },
   "file_extension": ".py",
   "mimetype": "text/x-python",
   "name": "python",
   "nbconvert_exporter": "python",
   "pygments_lexer": "ipython3",
   "version": "3.8.2"
  }
 },
 "nbformat": 4,
 "nbformat_minor": 4
}
