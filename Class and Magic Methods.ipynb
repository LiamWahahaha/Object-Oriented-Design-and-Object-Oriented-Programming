{
 "cells": [
  {
   "cell_type": "markdown",
   "metadata": {},
   "source": [
    "# Class and Magic Methods\n",
    "---\n",
    "## Class\n",
    "### private and protected"
   ]
  },
  {
   "cell_type": "code",
   "execution_count": 1,
   "metadata": {},
   "outputs": [],
   "source": [
    "class Base:\n",
    "    def __init__(self, public, protected, private):\n",
    "        self.public = public\n",
    "        self._protected = protected\n",
    "        self.__private = private\n",
    "        print(\"Access attributes inside the class\")\n",
    "        print(f\"public variable: {self.public}\")\n",
    "        print(f\"protected variable: {self._protected}\")\n",
    "        print(f\"private variable: {self.__private}\")\n",
    "\n",
    "base = Base('public variable', 'protected variable', 'private variable')\n",
    "print(base.public)\n",
    "print(base._protected)\n",
    "\n",
    "# access a private variable from outside its class will result in an AttributeError\n",
    "# print(base.__private) \n",
    "\n",
    "print(base._Base__private)"
   ]
  },
  {
   "cell_type": "markdown",
   "metadata": {},
   "source": [
    "### property() function\n",
    "\n",
    "```\n",
    "Signatures:\n",
    "prop = property(getter, setter, deleter, docstring)\n",
    "```"
   ]
  },
  {
   "cell_type": "code",
   "execution_count": 2,
   "metadata": {},
   "outputs": [],
   "source": [
    "class Person:\n",
    "    def __init__(self, name='Anonymous'):\n",
    "        self.__name = name\n",
    "\n",
    "    def setname(self, name):\n",
    "        self.__name = name\n",
    "        \n",
    "    def getname(self):\n",
    "        return self.__name\n",
    "    \n",
    "p1 = Person()\n",
    "print(f\"default name: {p1.getname()}\")\n",
    "p1.setname('John')\n",
    "print(f\"new name: {p1.getname()}\")\n",
    "\n",
    "class PersonWithProperty:\n",
    "    \"\"\"\n",
    "    property(getname, setname) returns the property object and assigns it to name.\n",
    "    The name property hides the private instace attribute __name. The name property is\n",
    "    accessed directly, but internally it will invoke the getname() or setname() method.\n",
    "    \"\"\"\n",
    "    \n",
    "    def __init__(self):\n",
    "        self.__name = ''\n",
    "        \n",
    "    def setname(self, name):\n",
    "        print('setname() called')\n",
    "        self.__name = name\n",
    "    \n",
    "    def getname(self):\n",
    "        print('getname() called')\n",
    "        return self.__name\n",
    "    \n",
    "    def delname(self):\n",
    "        print('delname() called')\n",
    "        del self.__name\n",
    "    \n",
    "    name = property(getname, setname, delname)\n",
    "\n",
    "p2 = PersonWithProperty()\n",
    "p2.name = \"Jane\"\n",
    "print(f\"new name: {p2.name}\")\n",
    "del p2.name"
   ]
  },
  {
   "cell_type": "markdown",
   "metadata": {},
   "source": [
    "### @property decorator\n",
    "\n",
    "A decorator is a function that receives another function as argument. The behavior of the argument function is extended by the decorator without actually modifying it.\n",
    "\n",
    "@property decorator is a built-in decorator in Python for the property() function.\n",
    "\n",
    "### @classmethod decorator and @staticmethod decorator\n",
    "\n",
    "- The @classmethod decorator can be applied on any method of a class. \n",
    "- The @staticmethod is a built-in decorator that defines a static method in the class. A static method doesn't receive any reference argument whether it is called by an instance of a class or by the class itself. -> doesn't have any arguments - neither `self` nor `cls` "
   ]
  },
  {
   "cell_type": "code",
   "execution_count": 3,
   "metadata": {},
   "outputs": [],
   "source": [
    "def mydecoratorfunction(some_function): # function to be decorated passed as argument\n",
    "    def wrapper_function(): # wrap the some_function and extends its behaviour\n",
    "        # write code to extend the behaviour of some_function()\n",
    "        some_function() # call some_function\n",
    "        return wrapper_function # return wrapper function\n",
    "\n",
    "def display(string):\n",
    "    print(string)\n",
    "    \n",
    "def displaydecorator(fn):\n",
    "    def display_wrapper(string):\n",
    "        print('Output:', end=\" \")\n",
    "        fn(string)\n",
    "    return display_wrapper\n",
    "\n",
    "out = displaydecorator(display)\n",
    "out('Hello World')\n",
    "\n",
    "@displaydecorator\n",
    "def display2(string):\n",
    "    print(f'{string} via @displaydecorator')\n",
    "    \n",
    "display2('Hello World')\n",
    "\n",
    "\n",
    "class PersonWithPropertyDecorator:\n",
    "    total_objects = 0\n",
    "\n",
    "    def __new__(cls):\n",
    "        cls.total_objects += 1\n",
    "        instance = object.__new__(cls)\n",
    "        return instance\n",
    "\n",
    "    def __init__(self):\n",
    "        self.__name = ''\n",
    "        # an alternative for not using __new__ magic method\n",
    "        # PersonWithPropertyDecorator.total_objects += 1\n",
    "        \n",
    "    @property\n",
    "    def name(self):\n",
    "        return self.__name\n",
    "    \n",
    "    @name.setter\n",
    "    def name(self, name):\n",
    "        self.__name = name\n",
    "        \n",
    "    @name.deleter\n",
    "    def name(self):\n",
    "        print('Deleting..')\n",
    "        del self.__name\n",
    "        PersonWithPropertyDecorator.total_objects -= 1\n",
    "        \n",
    "    @classmethod\n",
    "    def show_count(cls):\n",
    "        print(f\"Total persons: {cls.total_objects}\")\n",
    "\n",
    "    @staticmethod\n",
    "    def greet():\n",
    "        print('Hola!')\n",
    "        \n",
    "p3 = PersonWithPropertyDecorator()\n",
    "p3.name = 'Steve'\n",
    "print(f\"get name {p3.name}\")\n",
    "PersonWithPropertyDecorator.show_count() # classmethod can be called using the class name\n",
    "del p3.name\n",
    "# p3.name # An AttributeError\n",
    "p3.show_count() # classmethod can also be called using the object\n",
    "p4 = PersonWithPropertyDecorator()\n",
    "p4.show_count()\n",
    "p5 = PersonWithPropertyDecorator()\n",
    "p5.show_count()\n",
    "PersonWithPropertyDecorator.greet() # staticmethod can be called using both the class name and the object\n",
    "p5.greet()"
   ]
  },
  {
   "cell_type": "markdown",
   "metadata": {},
   "source": [
    "# Python Magic Methods "
   ]
  },
  {
   "cell_type": "code",
   "execution_count": 4,
   "metadata": {},
   "outputs": [
    {
     "data": {
      "text/plain": [
       "['__class__',\n",
       " '__delattr__',\n",
       " '__dict__',\n",
       " '__dir__',\n",
       " '__doc__',\n",
       " '__eq__',\n",
       " '__format__',\n",
       " '__ge__',\n",
       " '__getattribute__',\n",
       " '__gt__',\n",
       " '__hash__',\n",
       " '__init__',\n",
       " '__init_subclass__',\n",
       " '__le__',\n",
       " '__lt__',\n",
       " '__module__',\n",
       " '__ne__',\n",
       " '__new__',\n",
       " '__reduce__',\n",
       " '__reduce_ex__',\n",
       " '__repr__',\n",
       " '__setattr__',\n",
       " '__sizeof__',\n",
       " '__str__',\n",
       " '__subclasshook__',\n",
       " '__weakref__']"
      ]
     },
     "execution_count": 4,
     "metadata": {},
     "output_type": "execute_result"
    }
   ],
   "source": [
    "class Base:\n",
    "    pass\n",
    "\n",
    "dir(Base)"
   ]
  },
  {
   "cell_type": "markdown",
   "metadata": {},
   "source": [
    "## Initialization and Construction\n",
    "### `__new__() method`\n",
    "\n",
    "In Python the `__new__()` magic method is implicitly called before the `__init__()` method. The `__new__()` method returns a new object, which is then initialized by `__init__()`.\n",
    "\n",
    "### `__init__() method`\n",
    "\n",
    "To get called by the __new__ method. The constructor is always called when an object is created.\n",
    "- default constructor: The default constructor is simple constructor which doesn't accept any arguments.\n",
    "- parameterized constructor: constructor with parameters is known as parameterized constructor.\n",
    "\n",
    "### `__del__() method`\n",
    "\n",
    "Destructor method. The destructor was called **after the program ended** or when all the referenes to object are deleted i.e. when the reference count becomes zero, not when object went out of scope. It can be quite useful for objects that might require extra cleanup upon deletion, like `sockets` or `file` objects."
   ]
  },
  {
   "cell_type": "code",
   "execution_count": 5,
   "metadata": {
    "scrolled": true
   },
   "outputs": [
    {
     "name": "stdout",
     "output_type": "stream",
     "text": [
      "__new__ magic method is called\n",
      "__init__ magic method is called\n"
     ]
    },
    {
     "data": {
      "text/plain": [
       "<__main__.Base at 0x104d98b80>"
      ]
     },
     "execution_count": 5,
     "metadata": {},
     "output_type": "execute_result"
    }
   ],
   "source": [
    "class Base:\n",
    "    def __new__(cls):\n",
    "        print(\"__new__ magic method is called\")\n",
    "        instance = object.__new__(cls)\n",
    "        return instance\n",
    "    \n",
    "    def __init__(self):\n",
    "        print(\"__init__ magic method is called\")\n",
    "\n",
    "Base()"
   ]
  },
  {
   "cell_type": "markdown",
   "metadata": {},
   "source": [
    "## Comparison magic methods\n",
    "### __cmp__(self, other)\n",
    "- The most basic of the comparison magic methods.\n",
    "- `__cmp__` should return a negative integer if `self < other`\n",
    "- `__cmp__` should return zero if `self == other`\n",
    "- `__cmp__` should return a positive integer if `self > other`\n",
    "- It's usually best to define each comparison rather than define them all at once\n",
    "\n",
    "### `__eq__(self, other)`\n",
    "- Defines behavior for the equality operator, `==`\n",
    "\n",
    "### `__ne__(self, other)`\n",
    "- Defines behavior for the inequality operator, `!=`\n",
    "\n",
    "### `__lt__(self, other)`\n",
    "- Defines behavior for the less-than operator, `<`\n",
    "\n",
    "### `__gt__(self, other)`\n",
    "- Defines behavior for the greater-than operator, `>`\n",
    "\n",
    "### `__le__(self, other)`\n",
    "- Defines behavior for the less-than-or-equal-to operator, `<=`\n",
    "\n",
    "### `__ge__(self, other)`\n",
    "- Defines behavior for the greater-than-or-equal-to operator, `>=`"
   ]
  },
  {
   "cell_type": "code",
   "execution_count": 6,
   "metadata": {},
   "outputs": [
    {
     "name": "stdout",
     "output_type": "stream",
     "text": [
      "1 -> 3 -> 4 -> None\n",
      "2 -> 3 -> 4 -> None\n",
      "1 -> 2 -> 3 -> 3 -> 4 -> 4 -> None\n"
     ]
    }
   ],
   "source": [
    "import heapq\n",
    "\n",
    "\n",
    "class ListNode:\n",
    "    def __init__(self, val=0, next=None):\n",
    "        self.val = val\n",
    "        self.next = next\n",
    "\n",
    "class Wrapper:\n",
    "    def __init__(self, node):\n",
    "        self.node = node\n",
    "\n",
    "    def __lt__(self, other):\n",
    "        return self.node.val < other.node.val\n",
    "    \n",
    "    def __le__(self, other):\n",
    "        return self.node.val <= other.node.val\n",
    "\n",
    "\n",
    "class ListGenerator:\n",
    "    def __init__(self):\n",
    "        self.__root = ListNode()\n",
    "        \n",
    "    @property\n",
    "    def root(self):\n",
    "        return self.__root.next\n",
    "    \n",
    "    @root.setter\n",
    "    def root(self, elems):\n",
    "        ptr = self.__root\n",
    "        for elem in elems:\n",
    "            ptr.next = ListNode(elem)\n",
    "            ptr = ptr.next\n",
    "\n",
    "    @staticmethod\n",
    "    def print_element(l):\n",
    "        ptr = l\n",
    "        while ptr:\n",
    "            print(f\"{ptr.val} -> \", end='')\n",
    "            ptr = ptr.next\n",
    "        print('None')\n",
    "\n",
    "\n",
    "def mergeKLists(lists):\n",
    "    head = dummy = ListNode(0)\n",
    "    heap = []\n",
    "    for l in lists:\n",
    "        if l:\n",
    "            heapq.heappush(heap, (Wrapper(l), l))\n",
    "\n",
    "    while heap:\n",
    "        _, node = heapq.heappop(heap)\n",
    "        dummy.next = node\n",
    "        dummy = dummy.next\n",
    "        node = node.next\n",
    "        if node:\n",
    "            heapq.heappush(heap, (Wrapper(node), node))\n",
    "\n",
    "    return head.next\n",
    "\n",
    "\n",
    "l1 = ListGenerator()\n",
    "l2 = ListGenerator()\n",
    "l1.root = [1,3,4]\n",
    "l2.root = [2,3,4]\n",
    "ListGenerator.print_element(l1.root)\n",
    "ListGenerator.print_element(l2.root)\n",
    "\n",
    "merged_result = mergeKLists([l1.root, l2.root])\n",
    "ListGenerator.print_element(merged_result)"
   ]
  },
  {
   "cell_type": "markdown",
   "metadata": {},
   "source": [
    "When doing a comparison in heapq, Python looks for __lt__() first. If it is not defined, it will look for __gt__(). If neither is defined, it throws TypeError: '<' not supported between instances of `class name` and `class name`. "
   ]
  },
  {
   "cell_type": "markdown",
   "metadata": {},
   "source": [
    "## Representing Classes\n",
    "###  `__str__(self)`, `__repr__(self)`, `__format__(self)`\n",
    "- The major difference between `str()` and `repr()` is intended audience. `repr()` is intended to produce output that is mostly machine-readable, whereas `str()` is intended to be human-readable.\n",
    "- `format()` defines behavior for when an instance of the class is used in new-style string formatiing."
   ]
  },
  {
   "cell_type": "code",
   "execution_count": 7,
   "metadata": {},
   "outputs": [
    {
     "name": "stdout",
     "output_type": "stream",
     "text": [
      "John Doe\n",
      "10-year-old\n",
      "John Doe: 10-year-old\n"
     ]
    },
    {
     "data": {
      "text/plain": [
       "<Person object: John>"
      ]
     },
     "execution_count": 7,
     "metadata": {},
     "output_type": "execute_result"
    }
   ],
   "source": [
    "class Person:\n",
    "    def __init__(self, fname, lname, age):\n",
    "        self.__first_name = fname\n",
    "        self.__last_name = lname\n",
    "        self.__age = age\n",
    "\n",
    "    @property\n",
    "    def name(self):\n",
    "        return f\"{self.__first_name} {self.__last_name}\"\n",
    "    \n",
    "    @name.setter\n",
    "    def name(self, fname = '', lname= ''):\n",
    "        self.__first_name = fname\n",
    "        self.__last_name = lname\n",
    "    \n",
    "    @property\n",
    "    def age(self):\n",
    "        return self.__age\n",
    "\n",
    "    @age.setter\n",
    "    def age(self, age):\n",
    "        self.__age = age\n",
    "\n",
    "    def __repr__(self):\n",
    "        return f\"<Person object: {self.__first_name}>\"\n",
    "    \n",
    "    def __str__(self):\n",
    "        return self.name\n",
    "    \n",
    "    def __format__(self, fmt):\n",
    "        if fmt == \"%d\":\n",
    "            return f\"{self.__age}-year-old\"\n",
    "        else:\n",
    "            return f\"{self.name}: {self.__age}-year-old\"\n",
    "\n",
    "john = Person(\"John\", \"Doe\", 10)\n",
    "print(john)\n",
    "print(f\"{john:%d}\")\n",
    "print(f\"{john}\")\n",
    "john"
   ]
  },
  {
   "cell_type": "markdown",
   "metadata": {},
   "source": [
    "### Other magic methods for representing a class: \n",
    "- `__hash__(self)`, `__nonezero__(self)`, `__dir__(self)`, `__sizeof__(self)`"
   ]
  },
  {
   "cell_type": "markdown",
   "metadata": {},
   "source": [
    "## Numeric magic methods\n",
    "### Unary operators and functions\n",
    "`__pos__(self)`, `__neg__(self)`, `__abs__(self)`, `__invert__(self)`, `__round__(self)`, `__floor__(self)`, `__ceil__(self)`, `__trunc__(self)`\n",
    "\n",
    "### Normal arithmetic operators\n",
    "`__add__(self, other)`, `__sub__(self, other)`, `__mul__(self, other)`, `__floordiv__(self, other)` -> `//`, `__div__(self, other)` -> `/`, `__truediv__(self, other)`, `__mod__(self, other)`, `__divmod__(self, other)`, `__pow__(self, other)` -> `**`, `__lshift__(self, other)`, `__rshift__(self, other)`, `__and__(self, other)`, `__or__(self, other)`, `__xor__(self, other)`\n",
    "\n",
    "### Reflected arithmetic operators\n",
    "\n",
    "### Augmented assignment ( +=, -=, /=, //=, %=, **= ...)\n",
    "\n",
    "### Type conversion magic methods"
   ]
  },
  {
   "cell_type": "markdown",
   "metadata": {},
   "source": [
    "## References\n",
    "1. [Python - Class from TutorialsTeacher](https://www.tutorialsteacher.com/python/python-class)\n",
    "2. [Python - Magic Methods from TutorialsTeacher](https://www.tutorialsteacher.com/python/magic-methods-in-python)\n",
    "3. [wfitz / Python / Classes.ipynb](https://github.com/wfitz/Python/blob/master/Classes.ipynb)\n",
    "4. [A Guide to Python's Magic Methods](https://rszalski.github.io/magicmethods/)"
   ]
  }
 ],
 "metadata": {
  "kernelspec": {
   "display_name": "Python 3",
   "language": "python",
   "name": "python3"
  },
  "language_info": {
   "codemirror_mode": {
    "name": "ipython",
    "version": 3
   },
   "file_extension": ".py",
   "mimetype": "text/x-python",
   "name": "python",
   "nbconvert_exporter": "python",
   "pygments_lexer": "ipython3",
   "version": "3.8.2"
  }
 },
 "nbformat": 4,
 "nbformat_minor": 4
}
