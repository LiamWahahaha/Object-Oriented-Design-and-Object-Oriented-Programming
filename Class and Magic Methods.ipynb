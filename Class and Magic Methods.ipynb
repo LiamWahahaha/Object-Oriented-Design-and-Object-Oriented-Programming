{
 "cells": [
  {
   "cell_type": "markdown",
   "metadata": {},
   "source": [
    "# Class and Magic Methods\n",
    "---\n",
    "## Class\n",
    "### private and protected"
   ]
  },
  {
   "cell_type": "code",
   "execution_count": 1,
   "metadata": {},
   "outputs": [
    {
     "name": "stdout",
     "output_type": "stream",
     "text": [
      "Access attributes inside the class\n",
      "public variable: public variable\n",
      "protected variable: protected variable\n",
      "private variable: private variable\n",
      "public variable\n",
      "protected variable\n",
      "private variable\n"
     ]
    }
   ],
   "source": [
    "class Base:\n",
    "    def __init__(self, public, protected, private):\n",
    "        self.public = public\n",
    "        self._protected = protected\n",
    "        self.__private = private\n",
    "        print(\"Access attributes inside the class\")\n",
    "        print(f\"public variable: {self.public}\")\n",
    "        print(f\"protected variable: {self._protected}\")\n",
    "        print(f\"private variable: {self.__private}\")\n",
    "\n",
    "base = Base('public variable', 'protected variable', 'private variable')\n",
    "print(base.public)\n",
    "print(base._protected)\n",
    "\n",
    "# access a private variable from outside its class will result in an AttributeError\n",
    "# print(base.__private) \n",
    "\n",
    "print(base._Base__private)"
   ]
  },
  {
   "cell_type": "markdown",
   "metadata": {},
   "source": [
    "### property() function\n",
    "\n",
    "```\n",
    "Signatures:\n",
    "prop = property(getter, setter, deleter, docstring)\n",
    "```"
   ]
  },
  {
   "cell_type": "code",
   "execution_count": 2,
   "metadata": {},
   "outputs": [
    {
     "name": "stdout",
     "output_type": "stream",
     "text": [
      "default name: Anonymous\n",
      "new name: John\n",
      "setname() called\n",
      "getname() called\n",
      "new name: Jane\n",
      "delname() called\n"
     ]
    }
   ],
   "source": [
    "class Person:\n",
    "    def __init__(self, name='Anonymous'):\n",
    "        self.__name = name\n",
    "\n",
    "    def setname(self, name):\n",
    "        self.__name = name\n",
    "        \n",
    "    def getname(self):\n",
    "        return self.__name\n",
    "    \n",
    "p1 = Person()\n",
    "print(f\"default name: {p1.getname()}\")\n",
    "p1.setname('John')\n",
    "print(f\"new name: {p1.getname()}\")\n",
    "\n",
    "class PersonWithProperty:\n",
    "    \"\"\"\n",
    "    property(getname, setname) returns the property object and assigns it to name.\n",
    "    The name property hides the private instace attribute __name. The name property is\n",
    "    accessed directly, but internally it will invoke the getname() or setname() method.\n",
    "    \"\"\"\n",
    "    \n",
    "    def __init__(self):\n",
    "        self.__name = ''\n",
    "        \n",
    "    def setname(self, name):\n",
    "        print('setname() called')\n",
    "        self.__name = name\n",
    "    \n",
    "    def getname(self):\n",
    "        print('getname() called')\n",
    "        return self.__name\n",
    "    \n",
    "    def delname(self):\n",
    "        print('delname() called')\n",
    "        del self.__name\n",
    "    \n",
    "    name = property(getname, setname, delname)\n",
    "\n",
    "p2 = PersonWithProperty()\n",
    "p2.name = \"Jane\"\n",
    "print(f\"new name: {p2.name}\")\n",
    "del p2.name"
   ]
  },
  {
   "cell_type": "markdown",
   "metadata": {},
   "source": [
    "### @property decorator\n",
    "\n",
    "A decorator is a function that receives another function as argument. The behavior of the argument function is extended by the decorator without actually modifying it.\n",
    "\n",
    "@property decorator is a built-in decorator in Python for the property() function.\n",
    "\n",
    "### @classmethod decorator and @staticmethod decorator\n",
    "\n",
    "- The @classmethod decorator can be applied on any method of a class. \n",
    "- The @staticmethod is a built-in decorator that defines a static method in the class. A static method doesn't receive any reference argument whether it is called by an instance of a class or by the class itself. -> doesn't have any arguments - neither `self` nor `cls` "
   ]
  },
  {
   "cell_type": "code",
   "execution_count": 3,
   "metadata": {},
   "outputs": [
    {
     "name": "stdout",
     "output_type": "stream",
     "text": [
      "Output: Hello World\n",
      "Output: Hello World via @displaydecorator\n",
      "get name Steve\n",
      "Total persons: 1\n",
      "Deleting..\n",
      "Total persons: 0\n",
      "Total persons: 1\n",
      "Total persons: 2\n",
      "Hola!\n",
      "Hola!\n"
     ]
    }
   ],
   "source": [
    "def mydecoratorfunction(some_function): # function to be decorated passed as argument\n",
    "    def wrapper_function(): # wrap the some_function and extends its behaviour\n",
    "        # write code to extend the behaviour of some_function()\n",
    "        some_function() # call some_function\n",
    "        return wrapper_function # return wrapper function\n",
    "\n",
    "def display(string):\n",
    "    print(string)\n",
    "    \n",
    "def displaydecorator(fn):\n",
    "    def display_wrapper(string):\n",
    "        print('Output:', end=\" \")\n",
    "        fn(string)\n",
    "    return display_wrapper\n",
    "\n",
    "out = displaydecorator(display)\n",
    "out('Hello World')\n",
    "\n",
    "@displaydecorator\n",
    "def display2(string):\n",
    "    print(f'{string} via @displaydecorator')\n",
    "    \n",
    "display2('Hello World')\n",
    "\n",
    "\n",
    "class PersonWithPropertyDecorator:\n",
    "    total_objects = 0\n",
    "\n",
    "    def __new__(cls):\n",
    "        cls.total_objects += 1\n",
    "        instance = object.__new__(cls)\n",
    "        return instance\n",
    "\n",
    "    def __init__(self):\n",
    "        self.__name = ''\n",
    "        # an alternative for not using __new__ magic method\n",
    "        # PersonWithPropertyDecorator.total_objects += 1\n",
    "        \n",
    "    @property\n",
    "    def name(self):\n",
    "        return self.__name\n",
    "    \n",
    "    @name.setter\n",
    "    def name(self, name):\n",
    "        self.__name = name\n",
    "        \n",
    "    @name.deleter\n",
    "    def name(self):\n",
    "        print('Deleting..')\n",
    "        del self.__name\n",
    "        PersonWithPropertyDecorator.total_objects -= 1\n",
    "        \n",
    "    @classmethod\n",
    "    def show_count(cls):\n",
    "        print(f\"Total persons: {cls.total_objects}\")\n",
    "\n",
    "    @staticmethod\n",
    "    def greet():\n",
    "        print('Hola!')\n",
    "        \n",
    "p3 = PersonWithPropertyDecorator()\n",
    "p3.name = 'Steve'\n",
    "print(f\"get name {p3.name}\")\n",
    "PersonWithPropertyDecorator.show_count() # classmethod can be called using the class name\n",
    "del p3.name\n",
    "# p3.name # An AttributeError\n",
    "p3.show_count() # classmethod can also be called using the object\n",
    "p4 = PersonWithPropertyDecorator()\n",
    "p4.show_count()\n",
    "p5 = PersonWithPropertyDecorator()\n",
    "p5.show_count()\n",
    "PersonWithPropertyDecorator.greet() # staticmethod can be called using both the class name and the object\n",
    "p5.greet()"
   ]
  },
  {
   "cell_type": "markdown",
   "metadata": {},
   "source": [
    "# Python Magic Methods"
   ]
  },
  {
   "cell_type": "code",
   "execution_count": 4,
   "metadata": {},
   "outputs": [
    {
     "data": {
      "text/plain": [
       "['__class__',\n",
       " '__delattr__',\n",
       " '__dict__',\n",
       " '__dir__',\n",
       " '__doc__',\n",
       " '__eq__',\n",
       " '__format__',\n",
       " '__ge__',\n",
       " '__getattribute__',\n",
       " '__gt__',\n",
       " '__hash__',\n",
       " '__init__',\n",
       " '__init_subclass__',\n",
       " '__le__',\n",
       " '__lt__',\n",
       " '__module__',\n",
       " '__ne__',\n",
       " '__new__',\n",
       " '__reduce__',\n",
       " '__reduce_ex__',\n",
       " '__repr__',\n",
       " '__setattr__',\n",
       " '__sizeof__',\n",
       " '__str__',\n",
       " '__subclasshook__',\n",
       " '__weakref__']"
      ]
     },
     "execution_count": 4,
     "metadata": {},
     "output_type": "execute_result"
    }
   ],
   "source": [
    "class Base:\n",
    "    pass\n",
    "\n",
    "dir(Base)"
   ]
  },
  {
   "cell_type": "markdown",
   "metadata": {},
   "source": [
    "## __new__() method\n",
    "\n",
    "In Python the `__new__()` magic method is implicitly called before the `__init__()` method. The `__new__()` method returns a new object, which is then initialized by `__init__()`."
   ]
  },
  {
   "cell_type": "code",
   "execution_count": 5,
   "metadata": {},
   "outputs": [
    {
     "name": "stdout",
     "output_type": "stream",
     "text": [
      "__new__ magic method is called\n",
      "__init__ magic method is called\n"
     ]
    },
    {
     "data": {
      "text/plain": [
       "<__main__.Base at 0x10fe4f100>"
      ]
     },
     "execution_count": 5,
     "metadata": {},
     "output_type": "execute_result"
    }
   ],
   "source": [
    "class Base:\n",
    "    def __new__(cls):\n",
    "        print(\"__new__ magic method is called\")\n",
    "        instance = object.__new__(cls)\n",
    "        return instance\n",
    "    \n",
    "    def __init__(self):\n",
    "        print(\"__init__ magic method is called\")\n",
    "\n",
    "Base()"
   ]
  },
  {
   "cell_type": "markdown",
   "metadata": {},
   "source": [
    "## References\n",
    "1. [Python - Class from TutorialsTeacher](https://www.tutorialsteacher.com/python/python-class)\n",
    "1. [Python - Magic Methods from TutorialsTeacher](https://www.tutorialsteacher.com/python/magic-methods-in-python)\n",
    "2. [wfitz / Python / Classes.ipynb](https://github.com/wfitz/Python/blob/master/Classes.ipynb)"
   ]
  },
  {
   "cell_type": "code",
   "execution_count": null,
   "metadata": {},
   "outputs": [],
   "source": []
  }
 ],
 "metadata": {
  "kernelspec": {
   "display_name": "Python 3",
   "language": "python",
   "name": "python3"
  },
  "language_info": {
   "codemirror_mode": {
    "name": "ipython",
    "version": 3
   },
   "file_extension": ".py",
   "mimetype": "text/x-python",
   "name": "python",
   "nbconvert_exporter": "python",
   "pygments_lexer": "ipython3",
   "version": "3.8.2"
  }
 },
 "nbformat": 4,
 "nbformat_minor": 4
}
